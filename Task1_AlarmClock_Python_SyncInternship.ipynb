{
 "cells": [
  {
   "cell_type": "code",
   "execution_count": 1,
   "id": "c9cb502a",
   "metadata": {},
   "outputs": [],
   "source": [
    "import pandas as pd\n",
    "import numpy as np\n",
    "from tkinter import *\n",
    "import datetime\n",
    "import time\n",
    "import winsound\n",
    "from threading import *"
   ]
  },
  {
   "cell_type": "code",
   "execution_count": 2,
   "id": "efd287fd",
   "metadata": {},
   "outputs": [],
   "source": [
    "# Create Object\n",
    "root = Tk()"
   ]
  },
  {
   "cell_type": "code",
   "execution_count": 3,
   "id": "52ed07f3",
   "metadata": {},
   "outputs": [
    {
     "data": {
      "text/plain": [
       "''"
      ]
     },
     "execution_count": 3,
     "metadata": {},
     "output_type": "execute_result"
    }
   ],
   "source": [
    "# Set geometry\n",
    "root.geometry(\"400x200\")"
   ]
  },
  {
   "cell_type": "code",
   "execution_count": 4,
   "id": "b787adcd",
   "metadata": {},
   "outputs": [],
   "source": [
    "# Use Threading\n",
    "def Threading():\n",
    "    t1=Thread(target=alarm)\n",
    "    t1.start()"
   ]
  },
  {
   "cell_type": "code",
   "execution_count": 5,
   "id": "95cd557c",
   "metadata": {},
   "outputs": [],
   "source": [
    "def alarm():\n",
    "# Infinite Loop\n",
    "    while True:\n",
    "        set_alarm = f\"{hour.get()}:{minute.get()}:{second.get()}\"\n",
    "        time.sleep(10) #wait for 1sec\n",
    "        current_time = datetime.datetime.now().strftime(\"%H:%M:%S\") #current time\n",
    "        if current_time == set_alarm:\n",
    "            print(\"Time to Wake up\")\n",
    "            winsound.PlaySound(\"sound.wav\",winsound.SND_ASYNC)"
   ]
  },
  {
   "cell_type": "code",
   "execution_count": 6,
   "id": "58633bdf",
   "metadata": {},
   "outputs": [],
   "source": [
    "# Add Labels, Frame, Button, Optionmenus\n",
    "Label(root,text=\"Alarm Clock\",font=(\"Helvetica 20 bold\"),fg=\"red\").pack(pady=10)\n",
    "Label(root,text=\"Set Time\",font=(\"Helvetica 15 bold\")).pack()"
   ]
  },
  {
   "cell_type": "code",
   "execution_count": 7,
   "id": "85e5c176",
   "metadata": {},
   "outputs": [],
   "source": [
    "frame = Frame(root)\n",
    "frame.pack()"
   ]
  },
  {
   "cell_type": "code",
   "execution_count": 8,
   "id": "aa8ca6f7",
   "metadata": {},
   "outputs": [],
   "source": [
    "hour = StringVar(root)\n",
    "hours = ('00', '01', '02', '03', '04', '05', '06', '07',\n",
    "         '08', '09', '10', '11', '12', '13', '14', '15',\n",
    "         '16', '17', '18', '19', '20', '21', '22', '23', '24'\n",
    "        )\n",
    "hour.set(hours[0])"
   ]
  },
  {
   "cell_type": "code",
   "execution_count": 9,
   "id": "38080594",
   "metadata": {},
   "outputs": [],
   "source": [
    "hrs = OptionMenu(frame, hour, *hours)\n",
    "hrs.pack(side=LEFT)"
   ]
  },
  {
   "cell_type": "code",
   "execution_count": 10,
   "id": "06e7cd5c",
   "metadata": {},
   "outputs": [],
   "source": [
    "minute = StringVar(root)\n",
    "minutes = ('00', '01', '02', '03', '04', '05', '06', '07',\n",
    "           '08', '09', '10', '11', '12', '13', '14', '15',\n",
    "           '16', '17', '18', '19', '20', '21', '22', '23',\n",
    "           '24', '25', '26', '27', '28', '29', '30', '31',\n",
    "           '32', '33', '34', '35', '36', '37', '38', '39',\n",
    "           '40', '41', '42', '43', '44', '45', '46', '47',\n",
    "           '48', '49', '50', '51', '52', '53', '54', '55',\n",
    "           '56', '57', '58', '59', '60')\n",
    "minute.set(minutes[0])"
   ]
  },
  {
   "cell_type": "code",
   "execution_count": 11,
   "id": "5e763c53",
   "metadata": {},
   "outputs": [],
   "source": [
    "mins = OptionMenu(frame, minute, *minutes)\n",
    "mins.pack(side=LEFT)"
   ]
  },
  {
   "cell_type": "code",
   "execution_count": 12,
   "id": "f2e59571",
   "metadata": {},
   "outputs": [],
   "source": [
    "second = StringVar(root)\n",
    "seconds = ('00', '01', '02', '03', '04', '05', '06', '07',\n",
    "           '08', '09', '10', '11', '12', '13', '14', '15',\n",
    "           '16', '17', '18', '19', '20', '21', '22', '23',\n",
    "           '24', '25', '26', '27', '28', '29', '30', '31',\n",
    "           '32', '33', '34', '35', '36', '37', '38', '39',\n",
    "           '40', '41', '42', '43', '44', '45', '46', '47',\n",
    "           '48', '49', '50', '51', '52', '53', '54', '55',\n",
    "           '56', '57', '58', '59', '60')\n",
    "second.set(seconds[0])"
   ]
  },
  {
   "cell_type": "code",
   "execution_count": 13,
   "id": "e2cecfdf",
   "metadata": {},
   "outputs": [],
   "source": [
    "secs = OptionMenu(frame, second, *seconds)\n",
    "secs.pack(side=LEFT)"
   ]
  },
  {
   "cell_type": "code",
   "execution_count": 14,
   "id": "d83125de",
   "metadata": {},
   "outputs": [],
   "source": [
    "Button(root,text=\"Set Alarm\",font=(\"Helvetica 15\"),command=Threading).pack(pady=20)"
   ]
  },
  {
   "cell_type": "code",
   "execution_count": null,
   "id": "9e62d3f8",
   "metadata": {},
   "outputs": [
    {
     "name": "stdout",
     "output_type": "stream",
     "text": [
      "Time to Wake up\n"
     ]
    }
   ],
   "source": [
    "# Execute Tkinter\n",
    "root.mainloop()"
   ]
  },
  {
   "cell_type": "code",
   "execution_count": null,
   "id": "833b27df",
   "metadata": {},
   "outputs": [],
   "source": []
  }
 ],
 "metadata": {
  "kernelspec": {
   "display_name": "Python 3 (ipykernel)",
   "language": "python",
   "name": "python3"
  },
  "language_info": {
   "codemirror_mode": {
    "name": "ipython",
    "version": 3
   },
   "file_extension": ".py",
   "mimetype": "text/x-python",
   "name": "python",
   "nbconvert_exporter": "python",
   "pygments_lexer": "ipython3",
   "version": "3.9.12"
  }
 },
 "nbformat": 4,
 "nbformat_minor": 5
}
