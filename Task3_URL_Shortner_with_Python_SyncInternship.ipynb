{
 "cells": [
  {
   "cell_type": "code",
   "execution_count": 1,
   "id": "498139f2",
   "metadata": {},
   "outputs": [
    {
     "name": "stdout",
     "output_type": "stream",
     "text": [
      "Requirement already satisfied: requests in c:\\users\\admin\\anaconda3\\lib\\site-packages (2.28.1)\n",
      "Requirement already satisfied: certifi>=2017.4.17 in c:\\users\\admin\\anaconda3\\lib\\site-packages (from requests) (2022.12.7)\n",
      "Requirement already satisfied: charset-normalizer<3,>=2 in c:\\users\\admin\\anaconda3\\lib\\site-packages (from requests) (2.0.4)\n",
      "Requirement already satisfied: idna<4,>=2.5 in c:\\users\\admin\\anaconda3\\lib\\site-packages (from requests) (3.3)\n",
      "Requirement already satisfied: urllib3<1.27,>=1.21.1 in c:\\users\\admin\\anaconda3\\lib\\site-packages (from requests) (1.26.11)\n",
      "Note: you may need to restart the kernel to use updated packages.\n"
     ]
    }
   ],
   "source": [
    "pip install requests"
   ]
  },
  {
   "cell_type": "code",
   "execution_count": 2,
   "id": "168cd590",
   "metadata": {},
   "outputs": [],
   "source": [
    "import requests\n",
    "\n",
    "# account credentials\n",
    "username = \"o_4q9b7kfkec\"\n",
    "password = \"AB@1234567\""
   ]
  },
  {
   "cell_type": "code",
   "execution_count": 3,
   "id": "2b5bbe97",
   "metadata": {},
   "outputs": [
    {
     "name": "stdout",
     "output_type": "stream",
     "text": [
      "[!] Got access token: 400133574283759f69473a261ca137ffb01b35f8\n"
     ]
    }
   ],
   "source": [
    "# get the access token\n",
    "auth_res = requests.post(\"https://api-ssl.bitly.com/oauth/access_token\", auth=(username, password))\n",
    "if auth_res.status_code == 200:\n",
    "    # if response is OK, get the access token\n",
    "    access_token = auth_res.content.decode()\n",
    "    print(\"[!] Got access token:\", access_token)\n",
    "else:\n",
    "    print(\"[!] Cannot get access token, exiting...\")\n",
    "    exit()"
   ]
  },
  {
   "cell_type": "code",
   "execution_count": 4,
   "id": "293c9aed",
   "metadata": {},
   "outputs": [],
   "source": [
    "# construct the request headers with authorization\n",
    "headers = {\"Authorization\": f\"Bearer {access_token}\"}\n",
    "\n",
    "# get the group UID associated with our account\n",
    "groups_res = requests.get(\"https://api-ssl.bitly.com/v4/groups\", headers=headers)\n",
    "if groups_res.status_code == 200:\n",
    "    # if response is OK, get the GUID\n",
    "    groups_data = groups_res.json()['groups'][0]\n",
    "    guid = groups_data['guid']\n",
    "else:\n",
    "    print(\"[!] Cannot get GUID, exiting...\")\n",
    "    exit()"
   ]
  },
  {
   "cell_type": "code",
   "execution_count": 5,
   "id": "09667e4c",
   "metadata": {},
   "outputs": [
    {
     "name": "stdout",
     "output_type": "stream",
     "text": [
      "Shortened URL: https://bit.ly/3DzI4FI\n"
     ]
    }
   ],
   "source": [
    "# the URL you want to shorten\n",
    "url = \"https://mysignins.microsoft.com/register?csrf_token=2TKhkAnrNfRt9McpduxrTv2-sksAtB_C5sX4pdAhrbbld3ncYk9Y1j2bKeFaeNdEl3FKDOKColmIUyT9lbf5L0MaYm2HBQ5ywS8YeL0H0Up38MHish8-OviRa1cQPBs8Ts4U4LBXlZ02Ph9HML-VNA2&isOobe=False&brkr=&brkrVer=&clientSku=&personality=&authMethods=&authMethodCount=\"\n",
    "# make the POST request to get shortened URL for `url`\n",
    "shorten_res = requests.post(\"https://api-ssl.bitly.com/v4/shorten\", json={\"group_guid\": guid, \"long_url\": url}, headers=headers)\n",
    "if shorten_res.status_code == 200:\n",
    "    # if response is OK, get the shortened URL\n",
    "    link = shorten_res.json().get(\"link\")\n",
    "    print(\"Shortened URL:\", link)"
   ]
  },
  {
   "cell_type": "code",
   "execution_count": null,
   "id": "d7402d35",
   "metadata": {},
   "outputs": [],
   "source": []
  }
 ],
 "metadata": {
  "kernelspec": {
   "display_name": "Python 3 (ipykernel)",
   "language": "python",
   "name": "python3"
  },
  "language_info": {
   "codemirror_mode": {
    "name": "ipython",
    "version": 3
   },
   "file_extension": ".py",
   "mimetype": "text/x-python",
   "name": "python",
   "nbconvert_exporter": "python",
   "pygments_lexer": "ipython3",
   "version": "3.9.12"
  }
 },
 "nbformat": 4,
 "nbformat_minor": 5
}
